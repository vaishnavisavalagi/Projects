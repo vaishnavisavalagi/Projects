{
 "cells": [
  {
   "cell_type": "code",
   "execution_count": 2,
   "id": "966f12be",
   "metadata": {},
   "outputs": [
    {
     "name": "stdout",
     "output_type": "stream",
     "text": [
      "Enter amount:\n",
      "20\n",
      "Enter the name of the currency you want to convert this amount to? Available Options:\n",
      "\n",
      "Argentine Peso\n",
      "Australian Dollar\n",
      "Bahraini Dinar\n",
      "Botswana Pula\n",
      "Brazilian Real\n",
      "British Pound\n",
      "Bruneian Dollar\n",
      "Bulgarian Lev\n",
      "Canadian Dollar\n",
      "Chilean Peso\n",
      "Chinese Yuan Renminbi\n",
      "Colombian Peso\n",
      "Czech Koruna\n",
      "Danish Krone\n",
      "Emirati Dirham\n",
      "Euro\n",
      "Hong Kong Dollar\n",
      "Hungarian Forint\n",
      "Icelandic Krona\n",
      "Indonesian Rupiah\n",
      "Iranian Rial\n",
      "Israeli Shekel\n",
      "Japanese Yen\n",
      "Kazakhstani Tenge\n",
      "Kuwaiti Dinar\n",
      "Libyan Dinar\n",
      "Malaysian Ringgit\n",
      "Mauritian Rupee\n",
      "Mexican Peso\n",
      "Nepalese Rupee\n",
      "New Zealand Dollar\n",
      "Norwegian Krone\n",
      "Omani Rial\n",
      "Pakistani Rupee\n",
      "Philippine Peso\n",
      "Polish Zloty\n",
      "Qatari Riyal\n",
      "Romanian New Leu\n",
      "Russian Ruble\n",
      "Saudi Arabian Riyal\n",
      "Singapore Dollar\n",
      "South African Rand\n",
      "South Korean Won\n",
      "Sri Lankan Rupee\n",
      "Swedish Krona\n",
      "Swiss Franc\n",
      "Taiwan New Dollar\n",
      "Thai Baht\n",
      "Trinidadian Dollar\n",
      "Turkish Lira\n",
      "US Dollar\n",
      "Venezuelan Bolivar\n",
      "Please enter one of these values: \n",
      "11\n"
     ]
    },
    {
     "ename": "KeyError",
     "evalue": "'11'",
     "output_type": "error",
     "traceback": [
      "\u001b[1;31m---------------------------------------------------------------------------\u001b[0m",
      "\u001b[1;31mKeyError\u001b[0m                                  Traceback (most recent call last)",
      "\u001b[1;32m~\\AppData\\Local\\Temp\\ipykernel_15532\\2516940498.py\u001b[0m in \u001b[0;36m<module>\u001b[1;34m\u001b[0m\n\u001b[0;32m     11\u001b[0m \u001b[1;33m[\u001b[0m\u001b[0mprint\u001b[0m\u001b[1;33m(\u001b[0m\u001b[0mitem\u001b[0m\u001b[1;33m)\u001b[0m \u001b[1;32mfor\u001b[0m \u001b[0mitem\u001b[0m \u001b[1;32min\u001b[0m \u001b[0mcurrencyDict\u001b[0m\u001b[1;33m.\u001b[0m\u001b[0mkeys\u001b[0m\u001b[1;33m(\u001b[0m\u001b[1;33m)\u001b[0m\u001b[1;33m]\u001b[0m\u001b[1;33m\u001b[0m\u001b[1;33m\u001b[0m\u001b[0m\n\u001b[0;32m     12\u001b[0m \u001b[0mcurrency\u001b[0m \u001b[1;33m=\u001b[0m \u001b[0minput\u001b[0m\u001b[1;33m(\u001b[0m\u001b[1;34m\"Please enter one of these values: \\n\"\u001b[0m\u001b[1;33m)\u001b[0m\u001b[1;33m\u001b[0m\u001b[1;33m\u001b[0m\u001b[0m\n\u001b[1;32m---> 13\u001b[1;33m \u001b[0mprint\u001b[0m\u001b[1;33m(\u001b[0m\u001b[1;34mf\"{amount} INR is equal to {amount *float(currencyDict[currency])} {currency}\"\u001b[0m\u001b[1;33m)\u001b[0m\u001b[1;33m\u001b[0m\u001b[1;33m\u001b[0m\u001b[0m\n\u001b[0m",
      "\u001b[1;31mKeyError\u001b[0m: '11'"
     ]
    }
   ],
   "source": [
    "with open('currencydata.txt.txt') as f:\n",
    "\tlines = f.readlines()\n",
    "\n",
    "currencyDict = {}\n",
    "for line in lines:\n",
    "\tparsed = line.split(\"\\t\")\n",
    "\tcurrencyDict[parsed[0]] = parsed[1]\n",
    "\n",
    "amount = int(input(\"Enter amount:\\n\"))\n",
    "print(\"Enter the name of the currency you want to convert this amount to? Available Options:\\n\")\n",
    "[print(item) for item in currencyDict.keys()]\n",
    "currency = input(\"Please enter one of these values: \\n\")\n",
    "print(f\"{amount} INR is equal to {amount *float(currencyDict[currency])} {currency}\")"
   ]
  },
  {
   "cell_type": "code",
   "execution_count": null,
   "id": "40630f43",
   "metadata": {},
   "outputs": [],
   "source": []
  },
  {
   "cell_type": "code",
   "execution_count": null,
   "id": "4702d41c",
   "metadata": {},
   "outputs": [],
   "source": []
  }
 ],
 "metadata": {
  "kernelspec": {
   "display_name": "Python 3 (ipykernel)",
   "language": "python",
   "name": "python3"
  },
  "language_info": {
   "codemirror_mode": {
    "name": "ipython",
    "version": 3
   },
   "file_extension": ".py",
   "mimetype": "text/x-python",
   "name": "python",
   "nbconvert_exporter": "python",
   "pygments_lexer": "ipython3",
   "version": "3.9.13"
  }
 },
 "nbformat": 4,
 "nbformat_minor": 5
}
